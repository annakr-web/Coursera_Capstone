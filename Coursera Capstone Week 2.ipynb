{
 "cells": [
  {
   "cell_type": "markdown",
   "metadata": {},
   "source": [
    "## Introduction/Business Problem\n",
    "\n",
    "To attempt to reduce the frequency of car accidents in a community, a model can be developed to predict the severity of an accident given the current weather, road and visibility conditions, whether the driver was distracted and/or under the influence.\n",
    "\n",
    "By using historical data from 2004-2020 to build a predictive model, this algorithm can be utilized to inform city officials and drivers while also enhancing safety in the community. \n",
    "Based on driving conditions, this model can help mitigate the likelihood of serious accidents.\n"
   ]
  },
  {
   "cell_type": "markdown",
   "metadata": {},
   "source": [
    "## Data Section\n",
    "\n",
    "In this section, I will describe the data used to solve the problem.\n",
    "\n",
    "The accident severity will be predicted based on three variables. The predictor variable will be ‘SEVERITYCODE’ which measures accident severity as either 1- property damage collision or 2- injury collision. The criteria used to determine severity will be ‘WEATHER’, which describes the weather at the time of the crash, ‘ROADCOND’, which describes the road conditions at the time of the collision and ‘LIGHTCOND’, which describes the light conditions at the time of the collision, ‘INATTENTIONIND’, which describes whether the driver was distracted, and ‘UNDERINFL’, which describes whether the driver was under the influence.\n",
    "The main aspects of this project are:\n",
    "\n",
    "1. Data gathering\n",
    "2. Data conversion\n",
    "3. Building a predictive model with machine learning\n",
    "4. Results & evaluation\n"
   ]
  },
  {
   "cell_type": "code",
   "execution_count": null,
   "metadata": {},
   "outputs": [],
   "source": []
  }
 ],
 "metadata": {
  "kernelspec": {
   "display_name": "Python",
   "language": "python",
   "name": "conda-env-python-py"
  },
  "language_info": {
   "codemirror_mode": {
    "name": "ipython",
    "version": 3
   },
   "file_extension": ".py",
   "mimetype": "text/x-python",
   "name": "python",
   "nbconvert_exporter": "python",
   "pygments_lexer": "ipython3",
   "version": "3.6.11"
  }
 },
 "nbformat": 4,
 "nbformat_minor": 4
}
