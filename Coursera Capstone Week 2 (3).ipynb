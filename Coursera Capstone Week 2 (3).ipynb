{
 "cells": [
  {
   "cell_type": "markdown",
   "metadata": {},
   "source": [
    "## Introduction/Business Problem\n",
    "------------------------------------------------------------------------------------\n",
    "\n",
    "According to the WHO, approximately 1.35 million people die each year as a result of road traffic crashes. Road traffic injuries are predicted to become the seventh leading cause of death by 2030. In the USA, The Washington State Department of Transportation Crash Data Portal provides crash information for accidents that occurred statewide. According to the 2019 data, there were 45,524 accidents on all roads. Of those, 235 were fatal crashes, 973 were suspected of serious injury accidents and 2,798 were suspected of minor injury accidents.\n",
    "\n",
    "To attempt to reduce the frequency of car accidents in a community, a model can be developed to predict the severity of an accident given the current weather, road and visibility conditions, whether the driver was distracted and/or under the influence.\n",
    "\n",
    "The algorithm can be useful for the target audience of government officials, drivers and companies in Seattle, Washington. Government officials can forecast the likelihood of collisions and their severity, while drivers can view trends and be more informed of potential risks. As well, companies developing road or car safety technology can analyse these data trends.\n",
    "\n",
    "The predictive model can be utilized to enhance safety and to help mitigate the likelihood of serious accidents.\n",
    "\n",
    "**Primary Stakeholders**\n",
    "1. Government Officials (Seattle Public Development Authority)\n",
    "2. Car Drivers\n",
    "3. Companies developing technology to improve car/road safety\n"
   ]
  },
  {
   "cell_type": "markdown",
   "metadata": {},
   "source": [
    "## Data Section\n",
    "------------------------------------------------------------------------------------\n",
    "\n",
    "In this section, I will describe the data used to solve the problem.\n",
    "\n",
    "The dataset from 2004-2020 on car accidents that have occurred within the city of Seattle, Washington <a href=\"https://jupyterlab-14.labs.cognitiveclass.ai/user/annastasiakr/files/labs/coursera/ML0101EN/Data-Collisions_AK.csv?_xsrf=2%7C8e79c5f7%7C1caf6987dc4288b39f5fd618fc6e271e%7C1601829254\">(download here)</a> can be used to build a predictive model. The accident severity will be predicted based on three variables. The predictor variable will be ‘SEVERITYCODE’ which measures accident severity as either 1- property damage collision or 2- injury collision. The criteria used to determine severity will be ‘WEATHER’, which describes the weather at the time of the crash, ‘ROADCOND’, which describes the road conditions at the time of the collision and ‘LIGHTCOND’, which describes the light conditions at the time of the collision, ‘INATTENTIONIND’, which describes whether the driver was distracted, and ‘UNDERINFL’, which describes whether the driver was under the influence.\n",
    "\n",
    "\n",
    "**The main aspects of this project are:**\n",
    "\n",
    "1. Data gathering\n",
    "2. Data conversion\n",
    "3. Building a predictive model with machine learning\n",
    "4. Results & evaluation \n"
   ]
  },
  {
   "cell_type": "markdown",
   "metadata": {},
   "source": []
  },
  {
   "cell_type": "code",
   "execution_count": null,
   "metadata": {},
   "outputs": [],
   "source": []
  }
 ],
 "metadata": {
  "kernelspec": {
   "display_name": "Python",
   "language": "python",
   "name": "conda-env-python-py"
  },
  "language_info": {
   "codemirror_mode": {
    "name": "ipython",
    "version": 3
   },
   "file_extension": ".py",
   "mimetype": "text/x-python",
   "name": "python",
   "nbconvert_exporter": "python",
   "pygments_lexer": "ipython3",
   "version": "3.6.11"
  }
 },
 "nbformat": 4,
 "nbformat_minor": 4
}
